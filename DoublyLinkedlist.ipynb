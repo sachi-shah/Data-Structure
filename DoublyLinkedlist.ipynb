{
 "cells": [
  {
   "cell_type": "code",
   "execution_count": null,
   "metadata": {},
   "outputs": [],
   "source": [
    "# A linked list in which each node keeps\n",
    "# a reference to the node before it and a reference to the node after it \n",
    "# is known as a doubly linked list\n",
    "\n",
    "# n1 -> <- n2 -> <- n3 -> <- n4 -> <- None"
   ]
  },
  {
   "cell_type": "code",
   "execution_count": 52,
   "metadata": {},
   "outputs": [],
   "source": [
    "class Node:\n",
    "    \n",
    "    \n",
    "    def __init__(self, data):\n",
    "        self.item = data\n",
    "        self.next = None\n",
    "        self.prev = None\n",
    "        \n",
    "        \n",
    "class DoublyLinkedList:\n",
    "    \n",
    "    \n",
    "    def __init__(self):\n",
    "        self.head = None\n",
    "           \n",
    "    def add_head(self, data):\n",
    "        if self.head is None:\n",
    "            new_node = Node(data)\n",
    "            self.head = new_node\n",
    "            print(\"node inserted\")\n",
    "            return\n",
    "        else:\n",
    "            new_node = Node(data)\n",
    "            new_node.next = self.head\n",
    "            self.head.prev = new_node\n",
    "            self.head = new_node\n",
    "        \n",
    "    def add_tail(self, data):\n",
    "        if self.head is None:\n",
    "            new_node = Node(data)\n",
    "            self.head = new_node\n",
    "            return\n",
    "        else:\n",
    "            n = self.head\n",
    "            while n.next is not None:\n",
    "                n = n.next\n",
    "            new_node = Node(data)\n",
    "            n.next = new_node\n",
    "            new_node.prev = n\n",
    "            new_node.next = None\n",
    "        \n",
    "    def traverse_list(self):      # same as display() function\n",
    "        if self.head is None:\n",
    "            print(\"List is empty\")\n",
    "            return\n",
    "        else:\n",
    "            n = self.head\n",
    "            while n is not None:\n",
    "                print(n.item)\n",
    "                n = n.next\n",
    "                \n",
    "    def remove_head(self):\n",
    "        if self.head is None:\n",
    "            print(\"List is empty\")\n",
    "            return \n",
    "        elif self.head.next is None:\n",
    "            self.head = None\n",
    "            return\n",
    "        else:\n",
    "            self.head = self.head.next\n",
    "        \n",
    "        \n",
    "    def remove_tail(self):\n",
    "        if self.head is None:\n",
    "            print(\"List is empty\")\n",
    "            return \n",
    "        elif self.head.next is None:\n",
    "            self.head = None\n",
    "            return\n",
    "        else:\n",
    "            n = self.head\n",
    "            while n.next is not None:\n",
    "                n = n.next\n",
    "            n.prev.next = None\n",
    "        \n",
    "        \n",
    "    def reverse_linked_list(self):     \n",
    "        if self.head is None:\n",
    "            print(\"List is empty\")\n",
    "            return \n",
    "        else:\n",
    "            p = self.head\n",
    "            q = p.next\n",
    "            p.next = None\n",
    "            p.prev = q\n",
    "            while q is not None:\n",
    "                q.prev = q.next\n",
    "                q.next = p\n",
    "                p = q\n",
    "                q = q.prev\n",
    "            self.head = p\n"
   ]
  },
  {
   "cell_type": "code",
   "execution_count": 53,
   "metadata": {},
   "outputs": [
    {
     "name": "stdout",
     "output_type": "stream",
     "text": [
      "List is empty\n"
     ]
    }
   ],
   "source": [
    "l1 = DoublyLinkedList()\n",
    "l1.remove_head()"
   ]
  },
  {
   "cell_type": "code",
   "execution_count": 54,
   "metadata": {},
   "outputs": [
    {
     "name": "stdout",
     "output_type": "stream",
     "text": [
      "node inserted\n"
     ]
    }
   ],
   "source": [
    "l1.add_head('b')"
   ]
  },
  {
   "cell_type": "code",
   "execution_count": 55,
   "metadata": {},
   "outputs": [],
   "source": [
    "l1.add_head('c')"
   ]
  },
  {
   "cell_type": "code",
   "execution_count": 56,
   "metadata": {},
   "outputs": [],
   "source": [
    "l1.add_tail('d')"
   ]
  },
  {
   "cell_type": "code",
   "execution_count": 57,
   "metadata": {},
   "outputs": [
    {
     "name": "stdout",
     "output_type": "stream",
     "text": [
      "c\n",
      "b\n",
      "d\n"
     ]
    }
   ],
   "source": [
    "l1.traverse_list()"
   ]
  },
  {
   "cell_type": "code",
   "execution_count": 58,
   "metadata": {},
   "outputs": [],
   "source": [
    "l1.remove_head()\n"
   ]
  },
  {
   "cell_type": "code",
   "execution_count": 59,
   "metadata": {},
   "outputs": [
    {
     "name": "stdout",
     "output_type": "stream",
     "text": [
      "b\n",
      "d\n"
     ]
    }
   ],
   "source": [
    "l1.traverse_list()"
   ]
  },
  {
   "cell_type": "code",
   "execution_count": 60,
   "metadata": {},
   "outputs": [],
   "source": [
    "l1.remove_tail()"
   ]
  },
  {
   "cell_type": "code",
   "execution_count": 61,
   "metadata": {},
   "outputs": [
    {
     "name": "stdout",
     "output_type": "stream",
     "text": [
      "b\n"
     ]
    }
   ],
   "source": [
    "l1.traverse_list()"
   ]
  },
  {
   "cell_type": "code",
   "execution_count": 62,
   "metadata": {},
   "outputs": [],
   "source": [
    "l1.add_head('c')\n",
    "l1.add_head('e')\n",
    "l1.add_tail('f')"
   ]
  },
  {
   "cell_type": "code",
   "execution_count": 63,
   "metadata": {},
   "outputs": [
    {
     "name": "stdout",
     "output_type": "stream",
     "text": [
      "e\n",
      "c\n",
      "b\n",
      "f\n"
     ]
    }
   ],
   "source": [
    "l1.traverse_list()"
   ]
  },
  {
   "cell_type": "code",
   "execution_count": 64,
   "metadata": {},
   "outputs": [],
   "source": [
    "l1.reverse_linked_list()"
   ]
  },
  {
   "cell_type": "code",
   "execution_count": 65,
   "metadata": {},
   "outputs": [
    {
     "name": "stdout",
     "output_type": "stream",
     "text": [
      "f\n",
      "b\n",
      "c\n",
      "e\n"
     ]
    }
   ],
   "source": [
    "l1.traverse_list()"
   ]
  },
  {
   "cell_type": "code",
   "execution_count": null,
   "metadata": {},
   "outputs": [],
   "source": []
  }
 ],
 "metadata": {
  "kernelspec": {
   "display_name": "Python 3",
   "language": "python",
   "name": "python3"
  },
  "language_info": {
   "codemirror_mode": {
    "name": "ipython",
    "version": 3
   },
   "file_extension": ".py",
   "mimetype": "text/x-python",
   "name": "python",
   "nbconvert_exporter": "python",
   "pygments_lexer": "ipython3",
   "version": "3.6.8"
  }
 },
 "nbformat": 4,
 "nbformat_minor": 2
}
